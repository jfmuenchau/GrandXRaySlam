{
 "cells": [
  {
   "cell_type": "code",
   "execution_count": 1,
   "id": "7918c99f",
   "metadata": {},
   "outputs": [
    {
     "name": "stdout",
     "output_type": "stream",
     "text": [
      "hello\n"
     ]
    }
   ],
   "source": [
    "test = {\"hello\":1}\n",
    "\n",
    "\n",
    "if \"world\" not in test:\n",
    "    print(\"hello\")\n",
    "else:\n",
    "    print(\"Hey\")"
   ]
  },
  {
   "cell_type": "code",
   "execution_count": 6,
   "id": "c618c08a",
   "metadata": {},
   "outputs": [],
   "source": [
    "import torch\n",
    "import torch.nn as nn\n",
    "\n",
    "\n",
    "\n",
    "x = torch.randn(size=(10, 1))\n",
    "y = torch.randint(0, 2, size=(10, 1))"
   ]
  },
  {
   "cell_type": "code",
   "execution_count": 8,
   "id": "300e4971",
   "metadata": {},
   "outputs": [],
   "source": [
    "bce_loss = nn.BCEWithLogitsLoss(reduction=\"none\")"
   ]
  },
  {
   "cell_type": "code",
   "execution_count": 12,
   "id": "90e127a8",
   "metadata": {},
   "outputs": [
    {
     "data": {
      "text/plain": [
       "torch.Size([10, 1])"
      ]
     },
     "execution_count": 12,
     "metadata": {},
     "output_type": "execute_result"
    }
   ],
   "source": [
    "loss = bce_loss(x, y.float())\n",
    "\n",
    "\n",
    "loss.shape"
   ]
  },
  {
   "cell_type": "code",
   "execution_count": 17,
   "id": "3dfe3fa7",
   "metadata": {},
   "outputs": [
    {
     "data": {
      "text/plain": [
       "[(tensor([-0.5817]), 0),\n",
       " (tensor([0.6747]), 1),\n",
       " (tensor([-1.2691]), 2),\n",
       " (tensor([0.9205]), 3),\n",
       " (tensor([-0.6124]), 4),\n",
       " (tensor([-0.0104]), 5),\n",
       " (tensor([-0.7992]), 6),\n",
       " (tensor([0.3683]), 7),\n",
       " (tensor([1.3672]), 8),\n",
       " (tensor([-0.0916]), 9)]"
      ]
     },
     "execution_count": 17,
     "metadata": {},
     "output_type": "execute_result"
    }
   ],
   "source": [
    "x_ = list(range(10))\n",
    "\n",
    "\n",
    "list(zip(x, x_))"
   ]
  },
  {
   "cell_type": "code",
   "execution_count": 18,
   "id": "fbde700a",
   "metadata": {},
   "outputs": [],
   "source": [
    "from src.model import *\n",
    "\n",
    "\n",
    "conv = get_convnext_tiny()"
   ]
  },
  {
   "cell_type": "code",
   "execution_count": 20,
   "id": "d3cdec4f",
   "metadata": {},
   "outputs": [
    {
     "data": {
      "text/plain": [
       "27830894"
      ]
     },
     "execution_count": 20,
     "metadata": {},
     "output_type": "execute_result"
    }
   ],
   "source": [
    "sum(torch.numel(param) for param in conv.parameters())"
   ]
  },
  {
   "cell_type": "code",
   "execution_count": 21,
   "id": "562c83bc",
   "metadata": {},
   "outputs": [],
   "source": [
    "vit = get_vit_tiny()"
   ]
  },
  {
   "cell_type": "code",
   "execution_count": 23,
   "id": "1ed84fc8",
   "metadata": {},
   "outputs": [
    {
     "data": {
      "text/plain": [
       "timm.models.vision_transformer.VisionTransformer"
      ]
     },
     "execution_count": 23,
     "metadata": {},
     "output_type": "execute_result"
    }
   ],
   "source": [
    "type(vit)"
   ]
  },
  {
   "cell_type": "code",
   "execution_count": null,
   "id": "a8591def",
   "metadata": {},
   "outputs": [],
   "source": []
  }
 ],
 "metadata": {
  "kernelspec": {
   "display_name": "base",
   "language": "python",
   "name": "python3"
  },
  "language_info": {
   "codemirror_mode": {
    "name": "ipython",
    "version": 3
   },
   "file_extension": ".py",
   "mimetype": "text/x-python",
   "name": "python",
   "nbconvert_exporter": "python",
   "pygments_lexer": "ipython3",
   "version": "3.12.4"
  }
 },
 "nbformat": 4,
 "nbformat_minor": 5
}
