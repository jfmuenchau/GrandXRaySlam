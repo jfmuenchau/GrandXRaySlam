{
 "cells": [
  {
   "cell_type": "markdown",
   "id": "c22769e7",
   "metadata": {},
   "source": [
    "### To Do:\n",
    "\n",
    "+ Class Weights (CHECK)\n",
    "+ Fill missing values in dataframe (CHECK)\n",
    "+ Train simple classifier"
   ]
  },
  {
   "cell_type": "code",
   "execution_count": 1,
   "id": "15e10dd7",
   "metadata": {},
   "outputs": [],
   "source": [
    "from src.utils import *"
   ]
  },
  {
   "cell_type": "code",
   "execution_count": 2,
   "id": "029977de",
   "metadata": {},
   "outputs": [],
   "source": [
    "weights = get_class_weights(\"data/train1.csv\")"
   ]
  },
  {
   "cell_type": "code",
   "execution_count": 3,
   "id": "572c1c7a",
   "metadata": {},
   "outputs": [
    {
     "data": {
      "text/plain": [
       "[0.36167042300743196,\n",
       " 0.32596345484009165,\n",
       " 0.2736602902006072,\n",
       " 0.2483934658297167,\n",
       " 0.35256207275504314,\n",
       " 0.13954961163782667,\n",
       " 0.1108182614040643,\n",
       " 0.45286568443012276,\n",
       " 0.3162497438858569,\n",
       " 0.31890401773241195,\n",
       " 0.06576079870359677,\n",
       " 0.1339151004898765,\n",
       " 0.08208691117030194,\n",
       " 0.35074599064950546]"
      ]
     },
     "execution_count": 3,
     "metadata": {},
     "output_type": "execute_result"
    }
   ],
   "source": [
    "weights"
   ]
  },
  {
   "cell_type": "code",
   "execution_count": 4,
   "id": "07c9a027",
   "metadata": {},
   "outputs": [],
   "source": [
    "from src.model import *"
   ]
  },
  {
   "cell_type": "code",
   "execution_count": 14,
   "id": "213c7149",
   "metadata": {},
   "outputs": [],
   "source": [
    "model = get_vit_tiny(fine_tune=True)"
   ]
  },
  {
   "cell_type": "code",
   "execution_count": 15,
   "id": "5a8c404e",
   "metadata": {},
   "outputs": [
    {
     "data": {
      "text/plain": [
       "892430"
      ]
     },
     "execution_count": 15,
     "metadata": {},
     "output_type": "execute_result"
    }
   ],
   "source": [
    "sum(torch.numel(param) for param in model.parameters() if param.requires_grad==True)"
   ]
  },
  {
   "cell_type": "code",
   "execution_count": null,
   "id": "d2c15715",
   "metadata": {},
   "outputs": [],
   "source": []
  }
 ],
 "metadata": {
  "kernelspec": {
   "display_name": "base",
   "language": "python",
   "name": "python3"
  },
  "language_info": {
   "codemirror_mode": {
    "name": "ipython",
    "version": 3
   },
   "file_extension": ".py",
   "mimetype": "text/x-python",
   "name": "python",
   "nbconvert_exporter": "python",
   "pygments_lexer": "ipython3",
   "version": "3.12.3"
  }
 },
 "nbformat": 4,
 "nbformat_minor": 5
}
