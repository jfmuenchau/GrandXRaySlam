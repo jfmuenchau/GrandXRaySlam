{
 "cells": [
  {
   "cell_type": "markdown",
   "id": "40ef72ae",
   "metadata": {},
   "source": [
    "### To Do:\n",
    "\n",
    "+ td target, value mismatch\n",
    "\n",
    "+ reward => [N, 1]\n",
    "\n",
    "\n",
    "+ value memory => no ema\n",
    "\n",
    "+ less weight decay for target network\n",
    "\n",
    "+ ConvNext Model\n",
    "\n",
    "\n",
    "### Two Stage Training:\n",
    "\n",
    "+ Raw Data Training\n",
    "+ Fine Tuning with smaller lr and AdaAugment (Controller?)"
   ]
  },
  {
   "cell_type": "code",
   "execution_count": null,
   "id": "3db46ae9",
   "metadata": {},
   "outputs": [],
   "source": []
  }
 ],
 "metadata": {
  "kernelspec": {
   "display_name": "base",
   "language": "python",
   "name": "python3"
  },
  "language_info": {
   "codemirror_mode": {
    "name": "ipython",
    "version": 3
   },
   "file_extension": ".py",
   "mimetype": "text/x-python",
   "name": "python",
   "nbconvert_exporter": "python",
   "pygments_lexer": "ipython3",
   "version": "3.12.4"
  }
 },
 "nbformat": 4,
 "nbformat_minor": 5
}
