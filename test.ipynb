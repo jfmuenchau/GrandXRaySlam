{
 "cells": [
  {
   "cell_type": "code",
   "execution_count": 25,
   "id": "3413a50e",
   "metadata": {},
   "outputs": [],
   "source": [
    "from sklearn.model_selection import KFold\n",
    "from glob import glob\n",
    "\n",
    "tar_files = glob(\"data/train/*.tar\")\n",
    "kfold = KFold(n_splits=5, shuffle=True, random_state=42)\n",
    "\n",
    "train_idx, val_idx = list(kfold.split(tar_files))[0]"
   ]
  },
  {
   "cell_type": "code",
   "execution_count": 26,
   "id": "3f272f6b",
   "metadata": {},
   "outputs": [],
   "source": [
    "train_split, val_split = [tar_files[x] for x in train_idx], [tar_files[x] for x in val_idx]"
   ]
  },
  {
   "cell_type": "code",
   "execution_count": 27,
   "id": "b2a19ffb",
   "metadata": {},
   "outputs": [
    {
     "data": {
      "text/plain": [
       "(['data/train\\\\train-0000.tar',\n",
       "  'data/train\\\\train-0002.tar',\n",
       "  'data/train\\\\train-0003.tar',\n",
       "  'data/train\\\\train-0004.tar',\n",
       "  'data/train\\\\train-0005.tar',\n",
       "  'data/train\\\\train-0006.tar',\n",
       "  'data/train\\\\train-0007.tar',\n",
       "  'data/train\\\\train-0009.tar'],\n",
       " ['data/train\\\\train-0001.tar', 'data/train\\\\train-0008.tar'])"
      ]
     },
     "execution_count": 27,
     "metadata": {},
     "output_type": "execute_result"
    }
   ],
   "source": [
    "train_split, val_split"
   ]
  },
  {
   "cell_type": "code",
   "execution_count": null,
   "id": "c3a5d504",
   "metadata": {},
   "outputs": [],
   "source": []
  }
 ],
 "metadata": {
  "kernelspec": {
   "display_name": "base",
   "language": "python",
   "name": "python3"
  },
  "language_info": {
   "codemirror_mode": {
    "name": "ipython",
    "version": 3
   },
   "file_extension": ".py",
   "mimetype": "text/x-python",
   "name": "python",
   "nbconvert_exporter": "python",
   "pygments_lexer": "ipython3",
   "version": "3.12.4"
  }
 },
 "nbformat": 4,
 "nbformat_minor": 5
}
